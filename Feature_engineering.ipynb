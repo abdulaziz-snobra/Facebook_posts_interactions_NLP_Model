{
 "cells": [
  {
   "cell_type": "code",
   "execution_count": 155,
   "id": "4e6f580c",
   "metadata": {},
   "outputs": [],
   "source": [
    "## missions make least 5% of the data outlier 2:07"
   ]
  },
  {
   "cell_type": "markdown",
   "id": "06499654",
   "metadata": {},
   "source": [
    "# Imports"
   ]
  },
  {
   "cell_type": "code",
   "execution_count": 156,
   "id": "c3851960-1857-4cb7-adf9-48eaf8451378",
   "metadata": {},
   "outputs": [],
   "source": [
    "from bs4 import BeautifulSoup\n",
    "import requests\n",
    "from selenium import webdriver\n",
    "from selenium.webdriver.chrome.service import Service\n",
    "from selenium.webdriver.common.by import By\n",
    "import re\n",
    "import pandas as pd\n",
    "from lxml import etree \n",
    "#import matplotlib.pyplot as plt\n",
    "from selenium.webdriver.common.action_chains import ActionChains\n",
    "import time\n",
    "from selenium.webdriver.common.keys import Keys\n",
    "import math\n",
    "import pandas as pd\n",
    "import numpy as np\n",
    "import datetime"
   ]
  },
  {
   "cell_type": "markdown",
   "id": "cf31ee03",
   "metadata": {},
   "source": [
    "# Methods"
   ]
  },
  {
   "cell_type": "code",
   "execution_count": 157,
   "id": "043b0e8e",
   "metadata": {},
   "outputs": [],
   "source": [
    "def extract_numbers(text):\n",
    "  \"\"\"Extracts numbers from the given text.\"\"\"\n",
    "  numbers = re.search(r'\\d+(\\.\\d*)?K?', text)\n",
    "  try:\n",
    "    likes=float(numbers.group().split('K')[0])\n",
    "    if 'K' in numbers.group():\n",
    "        likes*=1000\n",
    "    return likes\n",
    "  except:\n",
    "    pass"
   ]
  },
  {
   "cell_type": "code",
   "execution_count": 158,
   "id": "44c7e015",
   "metadata": {},
   "outputs": [],
   "source": [
    "def delete_days(date):\n",
    "    \"\"\" Convert Date from YY-MM-DD to a single integer\n",
    "        ,We  will consider we took post from 2015 and after\n",
    "        Each 4 months will be converted into one value\n",
    "    \"\"\"\n",
    "    text=str(date)\n",
    "    text=text.split('-')\n",
    "    return text[0]+'-'+text[1]"
   ]
  },
  {
   "cell_type": "code",
   "execution_count": 159,
   "id": "3689c218",
   "metadata": {},
   "outputs": [],
   "source": [
    "def convert_date(date):\n",
    "    \"\"\" Convert Date from YY-MM-DD to a single integer\n",
    "        ,We  will consider we took post from 2015 and after\n",
    "        Each 4 months will be converted into one value\n",
    "    \"\"\"\n",
    "    text=str(date)\n",
    "    text=text.split('-')\n",
    "    year=int(text[0])-2015\n",
    "    ## we will consider each 2 months as plus one \n",
    "    \n",
    "    month=int(int(text[1])/2)\n",
    "\n",
    "    ## 2015-1-1 = {1} , 2015-3-1 = {2} , 2015-5-1 = {3} , 2015-7-1 = {4} , 2016-1-1 = {7} .....\n",
    "    date=year*6 + month\n",
    "    \n",
    "    return date"
   ]
  },
  {
   "cell_type": "code",
   "execution_count": 160,
   "id": "1565eac0",
   "metadata": {},
   "outputs": [],
   "source": [
    "\n",
    "def find_outliers_IQR(df):\n",
    "    '''\n",
    "    Find outlier in the Data\n",
    "    '''\n",
    "    q1=df.quantile(0.3)\n",
    "\n",
    "    q3=df.quantile(0.7)\n",
    "\n",
    "    IQR=q3-q1\n",
    "    print('low: ',q1-1.5*IQR)\n",
    "    print('high: ',q3+1.5*IQR)\n",
    "\n",
    "    outliers = df[((df<(q1-1.5*IQR)) | (df>(q3+1.5*IQR)))]\n",
    "    return outliers\n",
    "def find_upper_outliers_IQR(df):\n",
    "    '''check if the outlier is too high'''\n",
    "    q1=df.quantile(0.3)\n",
    "\n",
    "    q3=df.quantile(0.7)\n",
    "\n",
    "    IQR=q3-q1\n",
    "    outliers = df[(df>(q3+1.5*IQR))]\n",
    "    return outliers\n",
    "def find_lower_outliers_IQR(df):\n",
    "    '''check if the outlier is too low'''\n",
    "    q1=df.quantile(0.3)\n",
    "\n",
    "    q3=df.quantile(0.7)\n",
    "\n",
    "    IQR=q3-q1\n",
    "    outliers = df[(df<(q1-1.5*IQR))]\n",
    "    return outliers"
   ]
  },
  {
   "cell_type": "code",
   "execution_count": 161,
   "id": "ceac1d87",
   "metadata": {},
   "outputs": [],
   "source": [
    "def trnsfrm_1_10 (months_3,current):\n",
    "    ''' Transform likes and comments from a real number to rating from 1 to 10'''\n",
    "    mini=np.min(months_3)\n",
    "    maxi=np.max(months_3)\n",
    "    b = np.ndarray.round((current-mini)/(maxi-mini)*9+1)\n",
    "    print(b.max())\n",
    "    return b"
   ]
  },
  {
   "cell_type": "markdown",
   "id": "db966b18",
   "metadata": {},
   "source": [
    "# Main"
   ]
  },
  {
   "cell_type": "code",
   "execution_count": 162,
   "id": "dc601b17",
   "metadata": {
    "scrolled": true
   },
   "outputs": [
    {
     "data": {
      "text/plain": [
       "2349"
      ]
     },
     "execution_count": 162,
     "metadata": {},
     "output_type": "execute_result"
    }
   ],
   "source": [
    "df=pd.read_csv('Talha_Data.csv')\n",
    "\n",
    "df.shape[0]"
   ]
  },
  {
   "cell_type": "code",
   "execution_count": null,
   "id": "568b066d",
   "metadata": {},
   "outputs": [],
   "source": []
  },
  {
   "cell_type": "markdown",
   "id": "ff76deca",
   "metadata": {},
   "source": [
    "## Extracitng Data "
   ]
  },
  {
   "cell_type": "code",
   "execution_count": 163,
   "id": "c00841a1",
   "metadata": {},
   "outputs": [
    {
     "name": "stdout",
     "output_type": "stream",
     "text": [
      "No of None:  14\n",
      "shape after droping:  2335\n"
     ]
    }
   ],
   "source": [
    "## extracting numbers of likes\n",
    "df['likes']=df['likes'].apply(extract_numbers)\n",
    "\n",
    "nul=df['likes'].isnull().sum()\n",
    "print('No of None: ',nul)\n",
    "\n",
    "## Delete None values\n",
    "df.dropna(subset=['likes'], inplace=True)\n",
    "print('shape after droping: ',df.shape[0])"
   ]
  },
  {
   "cell_type": "code",
   "execution_count": 164,
   "id": "0f4370f8",
   "metadata": {},
   "outputs": [
    {
     "name": "stdout",
     "output_type": "stream",
     "text": [
      "No of None:  0\n",
      "shape after droping:  2335\n"
     ]
    }
   ],
   "source": [
    "df['comments']=df['comments'].apply(extract_numbers)\n",
    "\n",
    "nul=df['comments'].isnull().sum()\n",
    "print('No of None: ',nul)\n",
    "\n",
    "## Delete None values\n",
    "df.dropna(subset=['comments'], inplace=True)\n",
    "print('shape after droping: ',df.shape[0])"
   ]
  },
  {
   "cell_type": "code",
   "execution_count": 165,
   "id": "e53c5deb",
   "metadata": {},
   "outputs": [
    {
     "data": {
      "text/plain": [
       "array([56, 57, 43, 55, 42, 44, 45, 58], dtype=int64)"
      ]
     },
     "execution_count": 165,
     "metadata": {},
     "output_type": "execute_result"
    }
   ],
   "source": [
    "# converting dates, evry 2 months to single int number\n",
    "df['date']=df['date'].apply(convert_date)\n",
    "df['date'].unique()"
   ]
  },
  {
   "cell_type": "code",
   "execution_count": 166,
   "id": "d97d2702",
   "metadata": {},
   "outputs": [
    {
     "data": {
      "image/png": "[encoded data removed]",
      "text/plain": [
       "<Figure size 500x500 with 1 Axes>"
      ]
     },
     "metadata": {},
     "output_type": "display_data"
    }
   ],
   "source": [
    "# ploting histogram of likes\n",
    "## as we can see that it is not normaly distriputed\n",
    "ax = df.plot.hist(column=[\"likes\"], figsize=(5, 5),bins=250, alpha=0.5)"
   ]
  },
  {
   "cell_type": "code",
   "execution_count": 167,
   "id": "95d59538",
   "metadata": {},
   "outputs": [
    {
     "data": {
      "image/png": "[encoded data removed]",
      "text/plain": [
       "<Figure size 500x500 with 1 Axes>"
      ]
     },
     "metadata": {},
     "output_type": "display_data"
    }
   ],
   "source": [
    "# ploting histogram of comments\n",
    "## as we can see that it is not normaly distriputed\n",
    "ax = df.plot.hist(column=[\"comments\"], figsize=(5, 5),bins=250, alpha=0.5)"
   ]
  },
  {
   "cell_type": "code",
   "execution_count": 168,
   "id": "8470822c",
   "metadata": {},
   "outputs": [
    {
     "name": "stdout",
     "output_type": "stream",
     "text": [
      "low:  likes   -5250.0\n",
      "dtype: float64\n",
      "high:  likes    12750.0\n",
      "dtype: float64\n",
      "Likes outliers: 39\n"
     ]
    }
   ],
   "source": [
    "# checking for ouliers in likes\n",
    "x=find_outliers_IQR(df[['likes']])\n",
    "## Numper of rows has likes is an outlier\n",
    "print('Likes outliers:' ,df.shape[0]-x.isnull().sum().iloc[0])\n",
    "df['likes_outlier'] = np.where(np.isnan(x['likes']), 0, 1)\n"
   ]
  },
  {
   "cell_type": "code",
   "execution_count": 169,
   "id": "83d8c90f",
   "metadata": {},
   "outputs": [
    {
     "name": "stdout",
     "output_type": "stream",
     "text": [
      "low:  comments   -225.7\n",
      "dtype: float64\n",
      "high:  comments    501.5\n",
      "dtype: float64\n",
      "comments outliers: 295\n"
     ]
    }
   ],
   "source": [
    "# checking for ouliers in likes\n",
    "x=find_outliers_IQR(df[['comments']])\n",
    "## Numper of rows has likes is an outlier\n",
    "print('comments outliers:' ,df.shape[0]-x.isnull().sum().iloc[0])\n",
    "df['comments_outlier'] = np.where(np.isnan(x['comments']), 0, 1)\n"
   ]
  },
  {
   "cell_type": "code",
   "execution_count": 170,
   "id": "bb7e9dcf",
   "metadata": {},
   "outputs": [
    {
     "data": {
      "text/plain": [
       "1.0"
      ]
     },
     "execution_count": 170,
     "metadata": {},
     "output_type": "execute_result"
    }
   ],
   "source": [
    "df['comments'].min()"
   ]
  },
  {
   "cell_type": "code",
   "execution_count": 171,
   "id": "bff07301",
   "metadata": {
    "scrolled": false
   },
   "outputs": [
    {
     "data": {
      "text/plain": [
       "(0, 9)"
      ]
     },
     "execution_count": 171,
     "metadata": {},
     "output_type": "execute_result"
    }
   ],
   "source": [
    "# making all likes upper outliers rate to be 20/10 \"too good\"\n",
    "\n",
    "upper_outlier=find_upper_outliers_IQR(df[['likes']])\n",
    "df['likes_rate'] = df['likes'].where(np.isnan(upper_outlier['likes']),11)\n",
    "\n",
    "\n",
    "\n",
    "# note: upper oulier means the value is a high outlier and the same for lowe outlier \n",
    "df[df['likes_rate']==20].shape"
   ]
  },
  {
   "cell_type": "code",
   "execution_count": 172,
   "id": "585ef353",
   "metadata": {},
   "outputs": [
    {
     "name": "stdout",
     "output_type": "stream",
     "text": [
      "lower outlier percent:  0.050107066381156314\n"
     ]
    }
   ],
   "source": [
    "# making all likes lower outliers rate to be -10/10 \"too low\"\n",
    "## scince lower outlier boundry is negative, so we will force least 5% of the data to be an outlier\n",
    "### to not overwrite the previous upper outlier , we keep the likes rate as it is for all instead for lower outlier\n",
    "\n",
    "# geting value of 5% of the shape\n",
    "five_percent=int(0.05*df.shape[0])\n",
    "# sorting data based on likes, then getting the value of likes on the 5% row\n",
    "five_percent_max_comments=df.sort_values('likes').iloc[five_percent]['likes']\n",
    "# getting all least 5% rows\n",
    "lower_outlier=df[df['likes']<=five_percent_max_comments]\n",
    "\n",
    "# checking if the data exceeded 5% => reduce the likes value by 1.\n",
    "if((lower_outlier.shape[0]/df.shape[0]) >0.06):\n",
    "        five_percent_max_comments-=1\n",
    "df.loc[df['likes']<=five_percent_max_comments,'likes_rate']=0\n",
    "df.loc[df['likes']<=five_percent_max_comments,'likes_outlier']=1\n",
    "print('lower outlier percent: ',lower_outlier.shape[0]/df.shape[0])\n"
   ]
  },
  {
   "cell_type": "code",
   "execution_count": 173,
   "id": "cea60e12",
   "metadata": {},
   "outputs": [
    {
     "data": {
      "text/plain": [
       "0"
      ]
     },
     "execution_count": 173,
     "metadata": {},
     "output_type": "execute_result"
    }
   ],
   "source": [
    "df[df['likes_rate']==-10].shape[0]"
   ]
  },
  {
   "cell_type": "code",
   "execution_count": 174,
   "id": "5d2e2c15",
   "metadata": {},
   "outputs": [
    {
     "name": "stdout",
     "output_type": "stream",
     "text": [
      "7\n"
     ]
    },
    {
     "data": {
      "text/plain": [
       "2335"
      ]
     },
     "execution_count": 174,
     "metadata": {},
     "output_type": "execute_result"
    }
   ],
   "source": [
    "# repeating steps for comments\n",
    "# making all comments upper outliers rate to be 20/10 \"too good\"\n",
    "\n",
    "upper_outlier=find_upper_outliers_IQR(df[['comments']])\n",
    "df['comments_rate'] = df['comments'].where(np.isnan(upper_outlier['comments']),11)\n",
    "print(df[df['comments_rate']==20].shape[0])\n",
    "\n",
    "\n",
    "# note: upper oulier means the value is a high outlier and the same for lowe outlier \n",
    "df[df['comments_rate']==20].shape[0] +df[df['comments_rate']!=20].shape[0]"
   ]
  },
  {
   "cell_type": "code",
   "execution_count": 175,
   "id": "7d58b2e6",
   "metadata": {},
   "outputs": [
    {
     "name": "stdout",
     "output_type": "stream",
     "text": [
      "lower outlier percent:  0.050107066381156314\n"
     ]
    }
   ],
   "source": [
    "\n",
    "# geting value of 5% of the shape\n",
    "five_percent=int(0.05*df.shape[0])\n",
    "# sorting data based on comments, then getting the value of comments on the 5% row\n",
    "five_percent_max_comments=df.sort_values('comments').iloc[five_percent]['comments']\n",
    "# getting all least 5% rows\n",
    "lower_outlier=df[df['comments']<=five_percent_max_comments]\n",
    "\n",
    "# checking if the data exceeded 5% => reduce the likes value by 1.\n",
    "if((lower_outlier.shape[0]/df.shape[0]) >0.06):\n",
    "        five_percent_max_comments-=1\n",
    "df.loc[df['comments']<=five_percent_max_comments,'comments_rate']=0\n",
    "df.loc[df['comments']<=five_percent_max_comments,'comments_outlier']=1\n",
    "\n",
    "print('lower outlier percent: ',lower_outlier.shape[0]/df.shape[0])"
   ]
  },
  {
   "cell_type": "code",
   "execution_count": 176,
   "id": "c06cfc28",
   "metadata": {},
   "outputs": [
    {
     "data": {
      "text/plain": [
       "0"
      ]
     },
     "execution_count": 176,
     "metadata": {},
     "output_type": "execute_result"
    }
   ],
   "source": [
    "df[df['comments_rate']==-10].shape[0]"
   ]
  },
  {
   "cell_type": "code",
   "execution_count": 177,
   "id": "c2133b18",
   "metadata": {},
   "outputs": [
    {
     "name": "stdout",
     "output_type": "stream",
     "text": [
      "low:  -206.5\n",
      "high:  493.5\n"
     ]
    }
   ],
   "source": [
    "x=df[df['likes_outlier']==0]\n",
    "y=find_outliers_IQR(x['comments'])\n"
   ]
  },
  {
   "cell_type": "code",
   "execution_count": 178,
   "id": "6fe37114",
   "metadata": {},
   "outputs": [
    {
     "data": {
      "text/plain": [
       "26"
      ]
     },
     "execution_count": 178,
     "metadata": {},
     "output_type": "execute_result"
    }
   ],
   "source": [
    "convert_date('2019-4-1')"
   ]
  },
  {
   "cell_type": "code",
   "execution_count": 179,
   "id": "fbf590ea",
   "metadata": {},
   "outputs": [
    {
     "name": "stdout",
     "output_type": "stream",
     "text": [
      "10.0\n",
      "2.284375\n",
      "5.0\n",
      "1.659942363112392\n",
      "10.0\n",
      "5.287037037037037\n",
      "8.0\n",
      "2.3780487804878048\n",
      "10.0\n",
      "4.773584905660377\n",
      "10.0\n",
      "5.078703703703703\n",
      "10.0\n",
      "5.2227602905569\n",
      "6.0\n",
      "2.2549019607843137\n"
     ]
    }
   ],
   "source": [
    "## to scale likes from 1-10 we would get likes for 3 dates (6 months) and scale each (row likes) from 1-10 based on these 6 months\n",
    "\n",
    "\n",
    "## getting only non outlier rows\n",
    "g=df[df['likes_outlier']==0]\n",
    "## itetrating over each date(2 months)\n",
    "for i in g['date'].unique():\n",
    "    \n",
    "    ## to better estimate we calculate each month with the previous one and the after \n",
    "    months_3=g.loc[(g['date']==i) | (g['date']==i+1)|(g['date']==i-1)]\n",
    "    current_month=g.loc[g['date']==i]\n",
    "    \n",
    "    ## applying scaling for likes to be 1-10\n",
    "    likes_rate=trnsfrm_1_10(np.array(months_3['likes']),np.array(current_month['likes']))\n",
    "    \n",
    "    df.loc[(df['date']==i) & (df['likes_outlier']==0),'likes_rate']=likes_rate\n",
    "    print(likes_rate.mean())"
   ]
  },
  {
   "cell_type": "code",
   "execution_count": 180,
   "id": "6b7e40e5",
   "metadata": {},
   "outputs": [
    {
     "name": "stdout",
     "output_type": "stream",
     "text": [
      "10.0\n",
      "2.6136363636363638\n",
      "9.0\n",
      "2.1350574712643677\n",
      "10.0\n",
      "4.138028169014085\n",
      "9.0\n",
      "2.2027027027027026\n",
      "10.0\n",
      "3.8065693430656933\n",
      "10.0\n",
      "3.9885714285714284\n",
      "10.0\n",
      "4.163204747774481\n",
      "10.0\n",
      "2.3076923076923075\n"
     ]
    }
   ],
   "source": [
    "## to scale comments from 1-10 we would get commments for 3 dates (6 months) and scale each (row commments) from 1-10 based on these 6 months\n",
    "\n",
    "## getting only non outlier rows\n",
    "g=df[df['comments_outlier']==0]\n",
    "## itetrating over each date(2 months)\n",
    "\n",
    "for i in g['date'].unique():\n",
    "    \n",
    "    ## to better estimate we calculate each month with the previous one and the after \n",
    "    months_3=g.loc[(g['date']==i) | (g['date']==i+1)|(g['date']==i-1)]\n",
    "    current_month=g.loc[g['date']==i]\n",
    "    \n",
    "    ## applying scaling for commments to be 1-10\n",
    "    comments_rates=trnsfrm_1_10(np.array(months_3['comments']),np.array(current_month['comments']))\n",
    "    \n",
    "    df.loc[(df['date']==i) & (df['comments_outlier']==0),'comments_rate']=comments_rates\n",
    "    print(comments_rates.mean())\n"
   ]
  },
  {
   "cell_type": "code",
   "execution_count": 181,
   "id": "d41bad22",
   "metadata": {},
   "outputs": [
    {
     "data": {
      "text/plain": [
       "0.1468950749464668"
      ]
     },
     "execution_count": 181,
     "metadata": {},
     "output_type": "execute_result"
    }
   ],
   "source": [
    "df[df['likes']<800].shape[0]/df.shape[0]"
   ]
  },
  {
   "cell_type": "code",
   "execution_count": 182,
   "id": "3019ef84",
   "metadata": {},
   "outputs": [
    {
     "data": {
      "text/plain": [
       "array([ 3.,  4., 11.,  0.,  1.,  2.,  9.,  5.,  6.,  8.,  7., 10.])"
      ]
     },
     "execution_count": 182,
     "metadata": {},
     "output_type": "execute_result"
    }
   ],
   "source": [
    "\n",
    "df['comments_rate'].unique()"
   ]
  },
  {
   "cell_type": "code",
   "execution_count": 183,
   "id": "acc60f67",
   "metadata": {},
   "outputs": [
    {
     "data": {
      "image/png": "[encoded data removed]",
      "text/plain": [
       "<Figure size 500x500 with 1 Axes>"
      ]
     },
     "metadata": {},
     "output_type": "display_data"
    },
    {
     "data": {
      "image/png": "[encoded data removed]",
      "text/plain": [
       "<Figure size 500x500 with 1 Axes>"
      ]
     },
     "metadata": {},
     "output_type": "display_data"
    }
   ],
   "source": [
    "\n",
    "ax = df.plot.hist(column=[\"comments_rate\"], figsize=(5, 5),bins=250, alpha=0.5)\n",
    "ax = df.plot.hist(column=[\"likes_rate\"], figsize=(5, 5),bins=250, alpha=0.5)"
   ]
  },
  {
   "cell_type": "code",
   "execution_count": 190,
   "id": "23b4ec6b",
   "metadata": {},
   "outputs": [
    {
     "data": {
      "text/plain": [
       "likes_rate\n",
       "1.0     1020\n",
       "2.0      960\n",
       "7.0      910\n",
       "6.0      863\n",
       "3.0      783\n",
       "4.0      761\n",
       "5.0      587\n",
       "11.0     450\n",
       "0.0      366\n",
       "8.0      363\n",
       "9.0       79\n",
       "10.0      46\n",
       "Name: count, dtype: int64"
      ]
     },
     "execution_count": 190,
     "metadata": {},
     "output_type": "execute_result"
    }
   ],
   "source": [
    "df['likes_rate'].value_counts()"
   ]
  },
  {
   "cell_type": "code",
   "execution_count": null,
   "id": "547f3726",
   "metadata": {},
   "outputs": [],
   "source": []
  },
  {
   "cell_type": "code",
   "execution_count": 185,
   "id": "15b8ff4f",
   "metadata": {},
   "outputs": [],
   "source": [
    "df.to_csv('Talha_Data_managed.csv',index=False)"
   ]
  },
  {
   "cell_type": "code",
   "execution_count": 186,
   "id": "8f94d8b2",
   "metadata": {},
   "outputs": [],
   "source": [
    "df1=pd.read_csv('Awwad_Data_managed.csv')\n",
    "df2=pd.read_csv('Derraji_Data_managed.csv')\n",
    "df3=pd.read_csv('Talha_Data_managed.csv')\n",
    "df=pd.concat([df1,df2,df3],axis=0)"
   ]
  },
  {
   "cell_type": "code",
   "execution_count": 189,
   "id": "106b4366",
   "metadata": {},
   "outputs": [
    {
     "data": {
      "image/png": "[encoded data removed]",
      "text/plain": [
       "<Figure size 500x500 with 1 Axes>"
      ]
     },
     "metadata": {},
     "output_type": "display_data"
    },
    {
     "data": {
      "image/png": "[encoded data removed]",
      "text/plain": [
       "<Figure size 500x500 with 1 Axes>"
      ]
     },
     "metadata": {},
     "output_type": "display_data"
    }
   ],
   "source": []
  },
  {
   "cell_type": "code",
   "execution_count": null,
   "id": "cdb50414",
   "metadata": {},
   "outputs": [],
   "source": []
  }
 ],
 "metadata": {
  "kernelspec": {
   "display_name": "TFKernel",
   "language": "python",
   "name": "py309"
  },
  "language_info": {
   "codemirror_mode": {
    "name": "ipython",
    "version": 3
   },
   "file_extension": ".py",
   "mimetype": "text/x-python",
   "name": "python",
   "nbconvert_exporter": "python",
   "pygments_lexer": "ipython3",
   "version": "3.9.19"
  }
 },
 "nbformat": 4,
 "nbformat_minor": 5
}
